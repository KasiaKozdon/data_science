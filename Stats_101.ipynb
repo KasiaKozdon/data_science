{
 "cells": [
  {
   "cell_type": "markdown",
   "id": "ed44950b-875b-401d-95ef-98381d50a6c7",
   "metadata": {},
   "source": [
    "# Statistics 101\n",
    "\n",
    "This notebook is intended as a condensed summary of introductory statistics, a brief refresher probably most suitable for those who studied statistics, but it got a bit rusty."
   ]
  },
  {
   "cell_type": "markdown",
   "id": "b002f9e4-f762-4211-8bdd-0d96de1a087e",
   "metadata": {},
   "source": [
    "## Statistics of my sample \n",
    "* standard deviation\n",
    "* intraquartile range"
   ]
  },
  {
   "cell_type": "markdown",
   "id": "9afea32d-4bd6-4979-8105-a27dec46db85",
   "metadata": {},
   "source": [
    "## Sample to sample comparisons\n",
    "* Central Limit Theorem"
   ]
  },
  {
   "cell_type": "markdown",
   "id": "5b5dd765-eed6-4c35-ae68-b5eabeb3f583",
   "metadata": {},
   "source": [
    "## Samples vs \"population\"\n",
    "* certainty\n",
    "* calculation of the required number of samples\n",
    "\n",
    "---\n",
    "* binary values\n",
    "* continuous values"
   ]
  },
  {
   "cell_type": "markdown",
   "id": "3c396c00-7cf7-4fbf-84ed-d01e6c42e9c0",
   "metadata": {},
   "source": [
    "## Hypothesis testing"
   ]
  },
  {
   "cell_type": "code",
   "execution_count": null,
   "id": "9ccc213d-f85d-4399-b94f-3045f6dbf67b",
   "metadata": {},
   "outputs": [],
   "source": []
  }
 ],
 "metadata": {
  "kernelspec": {
   "display_name": "Python 3 (ipykernel)",
   "language": "python",
   "name": "python3"
  },
  "language_info": {
   "codemirror_mode": {
    "name": "ipython",
    "version": 3
   },
   "file_extension": ".py",
   "mimetype": "text/x-python",
   "name": "python",
   "nbconvert_exporter": "python",
   "pygments_lexer": "ipython3",
   "version": "3.11.4"
  }
 },
 "nbformat": 4,
 "nbformat_minor": 5
}
